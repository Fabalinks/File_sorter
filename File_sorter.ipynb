{
 "cells": [
  {
   "cell_type": "markdown",
   "metadata": {},
   "source": [
    "## The purpose is to code a program which enters a given directory looks for files with a specific date format name and sorts then accordign to month and year they were taken in. \n",
    "- It should ignore all other file with different name \n",
    "- not delete any pictures, \n",
    "- recognize if there are month folders already. \n"
   ]
  },
  {
   "cell_type": "code",
   "execution_count": 2,
   "metadata": {
    "collapsed": true
   },
   "outputs": [],
   "source": [
    "#imports \n",
    "import os "
   ]
  },
  {
   "cell_type": "code",
   "execution_count": 7,
   "metadata": {
    "collapsed": false
   },
   "outputs": [
    {
     "name": "stdout",
     "output_type": "stream",
     "text": [
      "C:/Users/Fabian/Desktop/Analysis/File_sorter/Example\n",
      "['month']\n",
      "['IMG20210925170902.jpg', 'IMG20211014135043.jpg', 'IMG20211028173742.jpg', 'IMG20211028173748.jpg']\n",
      "C:/Users/Fabian/Desktop/Analysis/File_sorter/Example\\month\n",
      "['month']\n",
      "[]\n",
      "C:/Users/Fabian/Desktop/Analysis/File_sorter/Example\\month\\month\n",
      "[]\n",
      "[]\n",
      "made\n"
     ]
    }
   ],
   "source": [
    "\n",
    "folder = 'C:/Users/Fabian/Desktop/Analysis/File_sorter/Example'\n",
    "\n",
    "for dirpath, dirnames, files in os.walk(folder, topdown=True):\n",
    "    print (dirpath)\n",
    "    print (dirnames)\n",
    "    print (files)\n",
    "    #with open(results_dir +\"metadata_%s.txt\" % time_stamp, \"a+\") as f_meta:\n",
    "    dir = os.path.join(dirpath,\"month\")\n",
    "    if not os.path.exists(dir):\n",
    "        os.mkdir(dir)\n",
    "        print(\"made\")\n",
    "        \n",
    "\n",
    "#     for metadata in files:\n",
    "#         if fnmatch.fnmatch(metadata, 'metadata_*'):\n",
    "#             print(metadata)\n",
    "#             print(dirpath)\n",
    "#             k=(dirpath+'/'+metadata)\n",
    "           \n"
   ]
  },
  {
   "cell_type": "code",
   "execution_count": 10,
   "metadata": {
    "collapsed": false
   },
   "outputs": [
    {
     "name": "stdout",
     "output_type": "stream",
     "text": [
      "IMG20210925170902.jpg\n",
      "IMG20211014135043.jpg\n",
      "IMG20211028173742.jpg\n",
      "IMG20211028173748.jpg\n"
     ]
    }
   ],
   "source": [
    "for item in os.listdir(folder):\n",
    "    if os.path.isfile(os.path.join(folder, item)):\n",
    "        print(item)"
   ]
  },
  {
   "cell_type": "code",
   "execution_count": 11,
   "metadata": {
    "collapsed": true
   },
   "outputs": [],
   "source": [
    "root, dirs, files = next(os.walk(folder))"
   ]
  },
  {
   "cell_type": "code",
   "execution_count": 12,
   "metadata": {
    "collapsed": false
   },
   "outputs": [
    {
     "data": {
      "text/plain": [
       "'C:/Users/Fabian/Desktop/Analysis/File_sorter/Example'"
      ]
     },
     "execution_count": 12,
     "metadata": {},
     "output_type": "execute_result"
    }
   ],
   "source": [
    "root"
   ]
  },
  {
   "cell_type": "code",
   "execution_count": 13,
   "metadata": {
    "collapsed": false
   },
   "outputs": [
    {
     "data": {
      "text/plain": [
       "['month']"
      ]
     },
     "execution_count": 13,
     "metadata": {},
     "output_type": "execute_result"
    }
   ],
   "source": [
    "dirs"
   ]
  },
  {
   "cell_type": "code",
   "execution_count": 65,
   "metadata": {
    "collapsed": false
   },
   "outputs": [
    {
     "data": {
      "text/plain": [
       "['IMG20210925170902.jpg',\n",
       " 'IMG20211014135043.jpg',\n",
       " 'IMG20211028173742.jpg',\n",
       " 'IMG20211028173748.jpg']"
      ]
     },
     "execution_count": 65,
     "metadata": {},
     "output_type": "execute_result"
    }
   ],
   "source": [
    "files"
   ]
  },
  {
   "cell_type": "code",
   "execution_count": 66,
   "metadata": {
    "collapsed": true
   },
   "outputs": [],
   "source": [
    "#WORKING CODE: "
   ]
  },
  {
   "cell_type": "code",
   "execution_count": 64,
   "metadata": {
    "collapsed": false
   },
   "outputs": [],
   "source": [
    "folder = 'C:/Users/Fabian/Desktop/Analysis/File_sorter/Example'\n",
    "\n",
    "for entry in os.scandir(folder):\n",
    "    #dirname = os.path.join(folder, entry.name)\n",
    "    #print (dirname)\n",
    "\n",
    "\n",
    "    if not entry.name.startswith('.') and entry.is_file():\n",
    "        if entry.name[0:3] ==\"IMG\" or \"VID\": \n",
    "            year= entry.name[3:7] \n",
    "            month= entry.name[7:9] \n",
    "            if not os.path.exists(folder+'/'+year+'_'+month):\n",
    "                os.mkdir(folder+'/'+year+'_'+month)\n",
    "            try:\n",
    "                os.rename(folder+\"/\"+entry.name, folder+\"/\"+year+'_'+month+\"/\"+entry.name)\n",
    "            except FileExistsError :\n",
    "                pass\n",
    "        else: \n",
    "            print(\"Nothing to sort here!\")\n",
    "        \n",
    "        \n",
    "        #print(entry.is_dir())\n",
    "        #print(entry.path)\n",
    "        \n",
    "        "
   ]
  },
  {
   "cell_type": "code",
   "execution_count": null,
   "metadata": {
    "collapsed": false
   },
   "outputs": [],
   "source": []
  },
  {
   "cell_type": "code",
   "execution_count": null,
   "metadata": {
    "collapsed": true
   },
   "outputs": [],
   "source": []
  }
 ],
 "metadata": {
  "kernelspec": {
   "display_name": "Python 3",
   "language": "python",
   "name": "python3"
  },
  "language_info": {
   "codemirror_mode": {
    "name": "ipython",
    "version": 3
   },
   "file_extension": ".py",
   "mimetype": "text/x-python",
   "name": "python",
   "nbconvert_exporter": "python",
   "pygments_lexer": "ipython3",
   "version": "3.5.4"
  }
 },
 "nbformat": 4,
 "nbformat_minor": 5
}
