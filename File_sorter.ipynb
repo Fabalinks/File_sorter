{
 "cells": [
  {
   "cell_type": "markdown",
   "id": "6101cbd3",
   "metadata": {},
   "source": [
    "## The purpose is to code a program which enters a given directory looks for files with a specific date format name and sorts then accordign to month and year they were taken in. \n",
    "- It should ignore all other file with different name \n",
    "- not delete any pictures, \n",
    "- recognize if there are month folders already. \n"
   ]
  },
  {
   "cell_type": "code",
   "execution_count": null,
   "id": "bb2e0e6b",
   "metadata": {},
   "outputs": [],
   "source": []
  }
 ],
 "metadata": {
  "kernelspec": {
   "display_name": "Python 3 (ipykernel)",
   "language": "python",
   "name": "python3"
  },
  "language_info": {
   "codemirror_mode": {
    "name": "ipython",
    "version": 3
   },
   "file_extension": ".py",
   "mimetype": "text/x-python",
   "name": "python",
   "nbconvert_exporter": "python",
   "pygments_lexer": "ipython3",
   "version": "3.9.7"
  }
 },
 "nbformat": 4,
 "nbformat_minor": 5
}
