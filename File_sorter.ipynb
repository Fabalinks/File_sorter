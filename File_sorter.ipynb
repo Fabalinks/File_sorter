{
 "cells": [
  {
   "cell_type": "markdown",
   "id": "317d01b5",
   "metadata": {},
   "source": [
    "## The purpose is to code a program which enters a given directory looks for files with a specific date format name and sorts then accordign to month and year they were taken in. \n",
    "- It should ignore all other file with different name \n",
    "- not delete any pictures, \n",
    "- recognize if there are month folders already. \n"
   ]
  },
  {
   "cell_type": "code",
   "execution_count": 2,
   "id": "635a7cf9",
   "metadata": {
    "collapsed": true
   },
   "outputs": [],
   "source": [
    "#imports \n",
    "import os "
   ]
  },
  {
   "cell_type": "code",
   "execution_count": 7,
   "id": "2fb588ae",
   "metadata": {},
   "outputs": [
    {
     "name": "stdout",
     "output_type": "stream",
     "text": [
      "C:/Users/Fabian/Desktop/Analysis/File_sorter/Example\n",
      "['month']\n",
      "['IMG20210925170902.jpg', 'IMG20211014135043.jpg', 'IMG20211028173742.jpg', 'IMG20211028173748.jpg']\n",
      "C:/Users/Fabian/Desktop/Analysis/File_sorter/Example\\month\n",
      "['month']\n",
      "[]\n",
      "C:/Users/Fabian/Desktop/Analysis/File_sorter/Example\\month\\month\n",
      "[]\n",
      "[]\n",
      "made\n"
     ]
    }
   ],
   "source": [
    "\n",
    "folder = 'C:/Users/Fabian/Desktop/Analysis/File_sorter/Example'\n",
    "\n",
    "for dirpath, dirnames, files in os.walk(folder, topdown=True):\n",
    "    print (dirpath)\n",
    "    print (dirnames)\n",
    "    print (files)\n",
    "    #with open(results_dir +\"metadata_%s.txt\" % time_stamp, \"a+\") as f_meta:\n",
    "    dir = os.path.join(dirpath,\"month\")\n",
    "    if not os.path.exists(dir):\n",
    "        os.mkdir(dir)\n",
    "        print(\"made\")\n",
    "        \n",
    "\n",
    "#     for metadata in files:\n",
    "#         if fnmatch.fnmatch(metadata, 'metadata_*'):\n",
    "#             print(metadata)\n",
    "#             print(dirpath)\n",
    "#             k=(dirpath+'/'+metadata)\n",
    "           \n"
   ]
  },
  {
   "cell_type": "code",
   "execution_count": 10,
   "id": "97dfb7e5",
   "metadata": {},
   "outputs": [
    {
     "name": "stdout",
     "output_type": "stream",
     "text": [
      "IMG20210925170902.jpg\n",
      "IMG20211014135043.jpg\n",
      "IMG20211028173742.jpg\n",
      "IMG20211028173748.jpg\n"
     ]
    }
   ],
   "source": [
    "for item in os.listdir(folder):\n",
    "    if os.path.isfile(os.path.join(folder, item)):\n",
    "        print(item)"
   ]
  },
  {
   "cell_type": "code",
   "execution_count": 11,
   "id": "54f066e4",
   "metadata": {
    "collapsed": true
   },
   "outputs": [],
   "source": [
    "root, dirs, files = next(os.walk(folder))"
   ]
  },
  {
   "cell_type": "code",
   "execution_count": 12,
   "id": "9372256f",
   "metadata": {},
   "outputs": [
    {
     "data": {
      "text/plain": [
       "'C:/Users/Fabian/Desktop/Analysis/File_sorter/Example'"
      ]
     },
     "execution_count": 12,
     "metadata": {},
     "output_type": "execute_result"
    }
   ],
   "source": [
    "root"
   ]
  },
  {
   "cell_type": "code",
   "execution_count": 13,
   "id": "a7120bea",
   "metadata": {},
   "outputs": [
    {
     "data": {
      "text/plain": [
       "['month']"
      ]
     },
     "execution_count": 13,
     "metadata": {},
     "output_type": "execute_result"
    }
   ],
   "source": [
    "dirs"
   ]
  },
  {
   "cell_type": "code",
   "execution_count": 65,
   "id": "a2c2a220",
   "metadata": {},
   "outputs": [
    {
     "data": {
      "text/plain": [
       "['IMG20210925170902.jpg',\n",
       " 'IMG20211014135043.jpg',\n",
       " 'IMG20211028173742.jpg',\n",
       " 'IMG20211028173748.jpg']"
      ]
     },
     "execution_count": 65,
     "metadata": {},
     "output_type": "execute_result"
    }
   ],
   "source": [
    "files"
   ]
  },
  {
   "cell_type": "code",
   "execution_count": 66,
   "id": "07e9d599",
   "metadata": {
    "collapsed": true
   },
   "outputs": [],
   "source": [
    "#WORKING CODE: "
   ]
  },
  {
   "cell_type": "code",
   "execution_count": 8,
   "id": "c32a5961",
   "metadata": {},
   "outputs": [
    {
     "ename": "SyntaxError",
     "evalue": "(unicode error) 'unicodeescape' codec can't decode bytes in position 2-3: truncated \\UXXXXXXXX escape (Temp/ipykernel_892/3236129907.py, line 3)",
     "output_type": "error",
     "traceback": [
      "\u001b[1;36m  File \u001b[1;32m\"C:\\Users\\Fabia\\AppData\\Local\\Temp/ipykernel_892/3236129907.py\"\u001b[1;36m, line \u001b[1;32m3\u001b[0m\n\u001b[1;33m    def Sorter (path='C:\\Users\\Fabia\\Pictures'):\u001b[0m\n\u001b[1;37m                                              ^\u001b[0m\n\u001b[1;31mSyntaxError\u001b[0m\u001b[1;31m:\u001b[0m (unicode error) 'unicodeescape' codec can't decode bytes in position 2-3: truncated \\UXXXXXXXX escape\n"
     ]
    }
   ],
   "source": [
    "if __name__ == \"__main__\":\n",
    "\n",
    "    def Sorter (path='C:\\Users\\Fabia\\Pictures'): \n",
    "\n",
    "        folder = 'C:/Users/Fabian/Desktop/Analysis/File_sorter/Example'\n",
    "\n",
    "        for entry in os.scandir(folder):\n",
    "            #dirname = os.path.join(folder, entry.name)\n",
    "            #print (dirname)\n",
    "\n",
    "\n",
    "            if not entry.name.startswith('.') and entry.is_file():\n",
    "                if entry.name[0:3] ==\"IMG\" or \"VID\": \n",
    "                    year= entry.name[3:7] \n",
    "                    month= entry.name[7:9] \n",
    "                    if not os.path.exists(folder+'/'+year+'_'+month):\n",
    "                        os.mkdir(folder+'/'+year+'_'+month)\n",
    "                    try:\n",
    "                        os.rename(folder+\"/\"+entry.name, folder+\"/\"+year+'_'+month+\"/\"+entry.name)\n",
    "                    except FileExistsError :\n",
    "                        pass\n",
    "                else: \n",
    "                    print(\"Nothing to sort here!\")\n",
    "\n",
    "\n",
    "                #print(entry.is_dir())\n",
    "                #print(entry.path)\n",
    "\n"
   ]
  },
  {
   "cell_type": "code",
   "execution_count": null,
   "id": "223cf9fc",
   "metadata": {},
   "outputs": [],
   "source": [
    "TODO: \n",
    "    Make desorter to move files from folder back to original folder. "
   ]
  },
  {
   "cell_type": "code",
   "execution_count": null,
   "id": "984588d1",
   "metadata": {},
   "outputs": [],
   "source": [
    "def desorter():\n",
    "    \n",
    "    for entry in os.scandir(folder):\n",
    "            #dirname = os.path.join(folder, entry.name)\n",
    "            #print (dirname)\n",
    "\n",
    "\n",
    "            if not entry.name.startswith('.') and entry.is_file():\n",
    "                if entry.name[0:3] ==\"IMG\" or \"VID\": \n",
    "                    year= entry.name[3:7] \n",
    "                    month= entry.name[7:9] \n",
    "                    if not os.path.exists(folder+'/'+year+'_'+month):\n",
    "                        os.mkdir(folder+'/'+year+'_'+month)\n",
    "                    try:\n",
    "                        os.rename(folder+\"/\"+entry.name, folder+\"/\"+year+'_'+month+\"/\"+entry.name)\n",
    "                    except FileExistsError :\n",
    "                        pass\n",
    "                else: \n",
    "                    print(\"Nothing to sort here!\")\n",
    "\n",
    "\n",
    "                #print(entry.is_dir())\n",
    "                #print(entry.path)\n"
   ]
  },
  {
   "cell_type": "code",
   "execution_count": 2,
   "id": "605d7ce7",
   "metadata": {},
   "outputs": [
    {
     "name": "stdout",
     "output_type": "stream",
     "text": [
      "before import\n",
      "before functionA\n",
      "before functionB\n",
      "before __name__ guard\n",
      "Function A\n",
      "Function B 10.0\n",
      "after __name__ guard\n"
     ]
    }
   ],
   "source": [
    "\n",
    "print(\"before import\")\n",
    "import math\n",
    "\n",
    "print(\"before functionA\")\n",
    "def functionA():\n",
    "    print(\"Function A\")\n",
    "\n",
    "print(\"before functionB\")\n",
    "def functionB():\n",
    "    print(\"Function B {}\".format(math.sqrt(100)))\n",
    "\n",
    "print(\"before __name__ guard\")\n",
    "if __name__ == '__main__':\n",
    "    functionA()\n",
    "    functionB()\n",
    "print(\"after __name__ guard\")"
   ]
  },
  {
   "cell_type": "code",
   "execution_count": null,
   "id": "6c4a6134",
   "metadata": {
    "collapsed": true
   },
   "outputs": [],
   "source": []
  }
 ],
 "metadata": {
  "kernelspec": {
   "display_name": "Python 3 (ipykernel)",
   "language": "python",
   "name": "python3"
  },
  "language_info": {
   "codemirror_mode": {
    "name": "ipython",
    "version": 3
   },
   "file_extension": ".py",
   "mimetype": "text/x-python",
   "name": "python",
   "nbconvert_exporter": "python",
   "pygments_lexer": "ipython3",
   "version": "3.9.7"
  }
 },
 "nbformat": 4,
 "nbformat_minor": 5
}
